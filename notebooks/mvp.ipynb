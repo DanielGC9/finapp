{
 "cells": [
  {
   "cell_type": "code",
   "execution_count": 38,
   "metadata": {},
   "outputs": [
    {
     "name": "stdout",
     "output_type": "stream",
     "text": [
      "/home/daniel/Proyectos_Daniel/finapp\n"
     ]
    }
   ],
   "source": [
    "import os\n",
    "import sys\n",
    "from datetime import datetime\n",
    "import pandas as pd\n",
    "import matplotlib.pyplot as plt\n",
    "import seaborn as sns\n",
    "import plotly.express as px\n",
    "import numpy as np\n",
    "import libsql_experimental as libsql\n",
    "\n",
    "#print(os.path.realpath(__file__))\n",
    "#print(os.path.dirname(os.path.realpath(__file__)))\n",
    "print(os.path.realpath('..'))\n",
    "\n",
    "sys.path.append('..')\n",
    "from src.utils.functions import import_data\n",
    "from dotenv import load_dotenv"
   ]
  },
  {
   "cell_type": "code",
   "execution_count": 2,
   "metadata": {},
   "outputs": [
    {
     "data": {
      "text/plain": [
       "True"
      ]
     },
     "execution_count": 2,
     "metadata": {},
     "output_type": "execute_result"
    }
   ],
   "source": [
    "load_dotenv()"
   ]
  },
  {
   "cell_type": "markdown",
   "metadata": {},
   "source": [
    "Different ways to access Dir\n",
    "- `os.path.realpath(__file__)`\n",
    "- `os.path.abspath('')`\n",
    "- `os.path.dirname(os.path.realpath(__file__))`\n",
    "- `os.path.realpath('./')`"
   ]
  },
  {
   "cell_type": "code",
   "execution_count": 39,
   "metadata": {},
   "outputs": [
    {
     "name": "stdout",
     "output_type": "stream",
     "text": [
      "\u001b[2m2024-04-09T04:05:50.498765Z\u001b[0m \u001b[32m INFO\u001b[0m \u001b[2mlibsql_replication::replicator\u001b[0m\u001b[2m:\u001b[0m Attempting to perform handshake with primary.\n",
      "\u001b[2m2024-04-09T04:05:50.498777Z\u001b[0m \u001b[32m INFO\u001b[0m \u001b[2mlibsql::replication::remote_client\u001b[0m\u001b[2m:\u001b[0m Attempting to perform handshake with primary.\n",
      "\u001b[2m2024-04-09T04:05:50.911820Z\u001b[0m \u001b[32m INFO\u001b[0m \u001b[2mlibsql_replication::replicator\u001b[0m\u001b[2m:\u001b[0m Attempting to perform handshake with primary.\n",
      "\u001b[2m2024-04-09T04:05:50.911832Z\u001b[0m \u001b[32m INFO\u001b[0m \u001b[2mlibsql::replication::remote_client\u001b[0m\u001b[2m:\u001b[0m Attempting to perform handshake with primary.\n"
     ]
    }
   ],
   "source": [
    "TOKEN = os.environ.get('NOTION_TOKEN')\n",
    "DATABASE_ID = os.environ.get('DATABASE_ID')\n"
   ]
  },
  {
   "cell_type": "code",
   "execution_count": 7,
   "metadata": {},
   "outputs": [
    {
     "name": "stderr",
     "output_type": "stream",
     "text": [
      "C:\\Users\\julie\\AppData\\Local\\Temp\\ipykernel_20192\\2002365913.py:6: SettingWithCopyWarning: \n",
      "A value is trying to be set on a copy of a slice from a DataFrame.\n",
      "Try using .loc[row_indexer,col_indexer] = value instead\n",
      "\n",
      "See the caveats in the documentation: https://pandas.pydata.org/pandas-docs/stable/user_guide/indexing.html#returning-a-view-versus-a-copy\n",
      "  expences['Month'] = expences['Date'].dt.strftime('%b')\n"
     ]
    }
   ],
   "source": [
    "# import the data to a dataframe\n",
    "data = import_data().dropna()\n",
    "data['Date'] = data['Date'].astype('datetime64[ns]')\n",
    "income = data[data['Category'] == 'Income']\n",
    "expences = data[data['Category'] != 'Income']\n",
    "expences['Month'] = expences['Date'].dt.strftime('%b')"
   ]
  },
  {
   "cell_type": "code",
   "execution_count": 8,
   "metadata": {},
   "outputs": [
    {
     "data": {
      "text/plain": [
       "array(['Bills & Utilities', 'Fast food', 'Health & Wellness',\n",
       "       'Entertainments', 'Food', 'Transport', 'Loan', 'Shopping', 'Extra',\n",
       "       'Bills & Utilities', 'Fast food', 'Health & Wellness',\n",
       "       'Entertainments', 'Food', 'Transport', 'Loan', 'Shopping', 'Extra'],\n",
       "      dtype=object)"
      ]
     },
     "execution_count": 8,
     "metadata": {},
     "output_type": "execute_result"
    }
   ],
   "source": [
    "all_cat = list(expences['Category'].unique())\n",
    "options = expences['Category'].unique()\n",
    "np.append(options, all_cat)"
   ]
  },
  {
   "cell_type": "code",
   "execution_count": 14,
   "metadata": {},
   "outputs": [
    {
     "data": {
      "application/vnd.plotly.v1+json": {
       "config": {
        "plotlyServerURL": "https://plot.ly"
       },
       "data": [
        {
         "domain": {
          "x": [
           0,
           1
          ],
          "y": [
           0,
           1
          ]
         },
         "hovertemplate": "Category=%{label}<br>Amount=%{value}<extra></extra>",
         "labels": [
          "Bills & Utilities",
          "Entertainments",
          "Extra",
          "Fast food",
          "Food",
          "Health & Wellness",
          "Shopping",
          "Transport"
         ],
         "legendgroup": "",
         "name": "",
         "showlegend": true,
         "textinfo": "percent+label",
         "textposition": "inside",
         "type": "pie",
         "values": [
          2777191,
          567000,
          342500,
          636536,
          488733,
          14300,
          171712,
          116800
         ]
        }
       ],
       "layout": {
        "legend": {
         "bordercolor": "Black",
         "borderwidth": 1,
         "tracegroupgap": 0,
         "x": 0.15,
         "xanchor": "left",
         "y": 0.99,
         "yanchor": "top"
        },
        "showlegend": true,
        "template": {
         "data": {
          "bar": [
           {
            "error_x": {
             "color": "#2a3f5f"
            },
            "error_y": {
             "color": "#2a3f5f"
            },
            "marker": {
             "line": {
              "color": "#E5ECF6",
              "width": 0.5
             },
             "pattern": {
              "fillmode": "overlay",
              "size": 10,
              "solidity": 0.2
             }
            },
            "type": "bar"
           }
          ],
          "barpolar": [
           {
            "marker": {
             "line": {
              "color": "#E5ECF6",
              "width": 0.5
             },
             "pattern": {
              "fillmode": "overlay",
              "size": 10,
              "solidity": 0.2
             }
            },
            "type": "barpolar"
           }
          ],
          "carpet": [
           {
            "aaxis": {
             "endlinecolor": "#2a3f5f",
             "gridcolor": "white",
             "linecolor": "white",
             "minorgridcolor": "white",
             "startlinecolor": "#2a3f5f"
            },
            "baxis": {
             "endlinecolor": "#2a3f5f",
             "gridcolor": "white",
             "linecolor": "white",
             "minorgridcolor": "white",
             "startlinecolor": "#2a3f5f"
            },
            "type": "carpet"
           }
          ],
          "choropleth": [
           {
            "colorbar": {
             "outlinewidth": 0,
             "ticks": ""
            },
            "type": "choropleth"
           }
          ],
          "contour": [
           {
            "colorbar": {
             "outlinewidth": 0,
             "ticks": ""
            },
            "colorscale": [
             [
              0,
              "#0d0887"
             ],
             [
              0.1111111111111111,
              "#46039f"
             ],
             [
              0.2222222222222222,
              "#7201a8"
             ],
             [
              0.3333333333333333,
              "#9c179e"
             ],
             [
              0.4444444444444444,
              "#bd3786"
             ],
             [
              0.5555555555555556,
              "#d8576b"
             ],
             [
              0.6666666666666666,
              "#ed7953"
             ],
             [
              0.7777777777777778,
              "#fb9f3a"
             ],
             [
              0.8888888888888888,
              "#fdca26"
             ],
             [
              1,
              "#f0f921"
             ]
            ],
            "type": "contour"
           }
          ],
          "contourcarpet": [
           {
            "colorbar": {
             "outlinewidth": 0,
             "ticks": ""
            },
            "type": "contourcarpet"
           }
          ],
          "heatmap": [
           {
            "colorbar": {
             "outlinewidth": 0,
             "ticks": ""
            },
            "colorscale": [
             [
              0,
              "#0d0887"
             ],
             [
              0.1111111111111111,
              "#46039f"
             ],
             [
              0.2222222222222222,
              "#7201a8"
             ],
             [
              0.3333333333333333,
              "#9c179e"
             ],
             [
              0.4444444444444444,
              "#bd3786"
             ],
             [
              0.5555555555555556,
              "#d8576b"
             ],
             [
              0.6666666666666666,
              "#ed7953"
             ],
             [
              0.7777777777777778,
              "#fb9f3a"
             ],
             [
              0.8888888888888888,
              "#fdca26"
             ],
             [
              1,
              "#f0f921"
             ]
            ],
            "type": "heatmap"
           }
          ],
          "heatmapgl": [
           {
            "colorbar": {
             "outlinewidth": 0,
             "ticks": ""
            },
            "colorscale": [
             [
              0,
              "#0d0887"
             ],
             [
              0.1111111111111111,
              "#46039f"
             ],
             [
              0.2222222222222222,
              "#7201a8"
             ],
             [
              0.3333333333333333,
              "#9c179e"
             ],
             [
              0.4444444444444444,
              "#bd3786"
             ],
             [
              0.5555555555555556,
              "#d8576b"
             ],
             [
              0.6666666666666666,
              "#ed7953"
             ],
             [
              0.7777777777777778,
              "#fb9f3a"
             ],
             [
              0.8888888888888888,
              "#fdca26"
             ],
             [
              1,
              "#f0f921"
             ]
            ],
            "type": "heatmapgl"
           }
          ],
          "histogram": [
           {
            "marker": {
             "pattern": {
              "fillmode": "overlay",
              "size": 10,
              "solidity": 0.2
             }
            },
            "type": "histogram"
           }
          ],
          "histogram2d": [
           {
            "colorbar": {
             "outlinewidth": 0,
             "ticks": ""
            },
            "colorscale": [
             [
              0,
              "#0d0887"
             ],
             [
              0.1111111111111111,
              "#46039f"
             ],
             [
              0.2222222222222222,
              "#7201a8"
             ],
             [
              0.3333333333333333,
              "#9c179e"
             ],
             [
              0.4444444444444444,
              "#bd3786"
             ],
             [
              0.5555555555555556,
              "#d8576b"
             ],
             [
              0.6666666666666666,
              "#ed7953"
             ],
             [
              0.7777777777777778,
              "#fb9f3a"
             ],
             [
              0.8888888888888888,
              "#fdca26"
             ],
             [
              1,
              "#f0f921"
             ]
            ],
            "type": "histogram2d"
           }
          ],
          "histogram2dcontour": [
           {
            "colorbar": {
             "outlinewidth": 0,
             "ticks": ""
            },
            "colorscale": [
             [
              0,
              "#0d0887"
             ],
             [
              0.1111111111111111,
              "#46039f"
             ],
             [
              0.2222222222222222,
              "#7201a8"
             ],
             [
              0.3333333333333333,
              "#9c179e"
             ],
             [
              0.4444444444444444,
              "#bd3786"
             ],
             [
              0.5555555555555556,
              "#d8576b"
             ],
             [
              0.6666666666666666,
              "#ed7953"
             ],
             [
              0.7777777777777778,
              "#fb9f3a"
             ],
             [
              0.8888888888888888,
              "#fdca26"
             ],
             [
              1,
              "#f0f921"
             ]
            ],
            "type": "histogram2dcontour"
           }
          ],
          "mesh3d": [
           {
            "colorbar": {
             "outlinewidth": 0,
             "ticks": ""
            },
            "type": "mesh3d"
           }
          ],
          "parcoords": [
           {
            "line": {
             "colorbar": {
              "outlinewidth": 0,
              "ticks": ""
             }
            },
            "type": "parcoords"
           }
          ],
          "pie": [
           {
            "automargin": true,
            "type": "pie"
           }
          ],
          "scatter": [
           {
            "fillpattern": {
             "fillmode": "overlay",
             "size": 10,
             "solidity": 0.2
            },
            "type": "scatter"
           }
          ],
          "scatter3d": [
           {
            "line": {
             "colorbar": {
              "outlinewidth": 0,
              "ticks": ""
             }
            },
            "marker": {
             "colorbar": {
              "outlinewidth": 0,
              "ticks": ""
             }
            },
            "type": "scatter3d"
           }
          ],
          "scattercarpet": [
           {
            "marker": {
             "colorbar": {
              "outlinewidth": 0,
              "ticks": ""
             }
            },
            "type": "scattercarpet"
           }
          ],
          "scattergeo": [
           {
            "marker": {
             "colorbar": {
              "outlinewidth": 0,
              "ticks": ""
             }
            },
            "type": "scattergeo"
           }
          ],
          "scattergl": [
           {
            "marker": {
             "colorbar": {
              "outlinewidth": 0,
              "ticks": ""
             }
            },
            "type": "scattergl"
           }
          ],
          "scattermapbox": [
           {
            "marker": {
             "colorbar": {
              "outlinewidth": 0,
              "ticks": ""
             }
            },
            "type": "scattermapbox"
           }
          ],
          "scatterpolar": [
           {
            "marker": {
             "colorbar": {
              "outlinewidth": 0,
              "ticks": ""
             }
            },
            "type": "scatterpolar"
           }
          ],
          "scatterpolargl": [
           {
            "marker": {
             "colorbar": {
              "outlinewidth": 0,
              "ticks": ""
             }
            },
            "type": "scatterpolargl"
           }
          ],
          "scatterternary": [
           {
            "marker": {
             "colorbar": {
              "outlinewidth": 0,
              "ticks": ""
             }
            },
            "type": "scatterternary"
           }
          ],
          "surface": [
           {
            "colorbar": {
             "outlinewidth": 0,
             "ticks": ""
            },
            "colorscale": [
             [
              0,
              "#0d0887"
             ],
             [
              0.1111111111111111,
              "#46039f"
             ],
             [
              0.2222222222222222,
              "#7201a8"
             ],
             [
              0.3333333333333333,
              "#9c179e"
             ],
             [
              0.4444444444444444,
              "#bd3786"
             ],
             [
              0.5555555555555556,
              "#d8576b"
             ],
             [
              0.6666666666666666,
              "#ed7953"
             ],
             [
              0.7777777777777778,
              "#fb9f3a"
             ],
             [
              0.8888888888888888,
              "#fdca26"
             ],
             [
              1,
              "#f0f921"
             ]
            ],
            "type": "surface"
           }
          ],
          "table": [
           {
            "cells": {
             "fill": {
              "color": "#EBF0F8"
             },
             "line": {
              "color": "white"
             }
            },
            "header": {
             "fill": {
              "color": "#C8D4E3"
             },
             "line": {
              "color": "white"
             }
            },
            "type": "table"
           }
          ]
         },
         "layout": {
          "annotationdefaults": {
           "arrowcolor": "#2a3f5f",
           "arrowhead": 0,
           "arrowwidth": 1
          },
          "autotypenumbers": "strict",
          "coloraxis": {
           "colorbar": {
            "outlinewidth": 0,
            "ticks": ""
           }
          },
          "colorscale": {
           "diverging": [
            [
             0,
             "#8e0152"
            ],
            [
             0.1,
             "#c51b7d"
            ],
            [
             0.2,
             "#de77ae"
            ],
            [
             0.3,
             "#f1b6da"
            ],
            [
             0.4,
             "#fde0ef"
            ],
            [
             0.5,
             "#f7f7f7"
            ],
            [
             0.6,
             "#e6f5d0"
            ],
            [
             0.7,
             "#b8e186"
            ],
            [
             0.8,
             "#7fbc41"
            ],
            [
             0.9,
             "#4d9221"
            ],
            [
             1,
             "#276419"
            ]
           ],
           "sequential": [
            [
             0,
             "#0d0887"
            ],
            [
             0.1111111111111111,
             "#46039f"
            ],
            [
             0.2222222222222222,
             "#7201a8"
            ],
            [
             0.3333333333333333,
             "#9c179e"
            ],
            [
             0.4444444444444444,
             "#bd3786"
            ],
            [
             0.5555555555555556,
             "#d8576b"
            ],
            [
             0.6666666666666666,
             "#ed7953"
            ],
            [
             0.7777777777777778,
             "#fb9f3a"
            ],
            [
             0.8888888888888888,
             "#fdca26"
            ],
            [
             1,
             "#f0f921"
            ]
           ],
           "sequentialminus": [
            [
             0,
             "#0d0887"
            ],
            [
             0.1111111111111111,
             "#46039f"
            ],
            [
             0.2222222222222222,
             "#7201a8"
            ],
            [
             0.3333333333333333,
             "#9c179e"
            ],
            [
             0.4444444444444444,
             "#bd3786"
            ],
            [
             0.5555555555555556,
             "#d8576b"
            ],
            [
             0.6666666666666666,
             "#ed7953"
            ],
            [
             0.7777777777777778,
             "#fb9f3a"
            ],
            [
             0.8888888888888888,
             "#fdca26"
            ],
            [
             1,
             "#f0f921"
            ]
           ]
          },
          "colorway": [
           "#636efa",
           "#EF553B",
           "#00cc96",
           "#ab63fa",
           "#FFA15A",
           "#19d3f3",
           "#FF6692",
           "#B6E880",
           "#FF97FF",
           "#FECB52"
          ],
          "font": {
           "color": "#2a3f5f"
          },
          "geo": {
           "bgcolor": "white",
           "lakecolor": "white",
           "landcolor": "#E5ECF6",
           "showlakes": true,
           "showland": true,
           "subunitcolor": "white"
          },
          "hoverlabel": {
           "align": "left"
          },
          "hovermode": "closest",
          "mapbox": {
           "style": "light"
          },
          "paper_bgcolor": "white",
          "plot_bgcolor": "#E5ECF6",
          "polar": {
           "angularaxis": {
            "gridcolor": "white",
            "linecolor": "white",
            "ticks": ""
           },
           "bgcolor": "#E5ECF6",
           "radialaxis": {
            "gridcolor": "white",
            "linecolor": "white",
            "ticks": ""
           }
          },
          "scene": {
           "xaxis": {
            "backgroundcolor": "#E5ECF6",
            "gridcolor": "white",
            "gridwidth": 2,
            "linecolor": "white",
            "showbackground": true,
            "ticks": "",
            "zerolinecolor": "white"
           },
           "yaxis": {
            "backgroundcolor": "#E5ECF6",
            "gridcolor": "white",
            "gridwidth": 2,
            "linecolor": "white",
            "showbackground": true,
            "ticks": "",
            "zerolinecolor": "white"
           },
           "zaxis": {
            "backgroundcolor": "#E5ECF6",
            "gridcolor": "white",
            "gridwidth": 2,
            "linecolor": "white",
            "showbackground": true,
            "ticks": "",
            "zerolinecolor": "white"
           }
          },
          "shapedefaults": {
           "line": {
            "color": "#2a3f5f"
           }
          },
          "ternary": {
           "aaxis": {
            "gridcolor": "white",
            "linecolor": "white",
            "ticks": ""
           },
           "baxis": {
            "gridcolor": "white",
            "linecolor": "white",
            "ticks": ""
           },
           "bgcolor": "#E5ECF6",
           "caxis": {
            "gridcolor": "white",
            "linecolor": "white",
            "ticks": ""
           }
          },
          "title": {
           "x": 0.05
          },
          "xaxis": {
           "automargin": true,
           "gridcolor": "white",
           "linecolor": "white",
           "ticks": "",
           "title": {
            "standoff": 15
           },
           "zerolinecolor": "white",
           "zerolinewidth": 2
          },
          "yaxis": {
           "automargin": true,
           "gridcolor": "white",
           "linecolor": "white",
           "ticks": "",
           "title": {
            "standoff": 15
           },
           "zerolinecolor": "white",
           "zerolinewidth": 2
          }
         }
        },
        "title": {
         "font": {
          "size": 20
         },
         "text": "Montos por Categoría"
        },
        "xaxis": {
         "linecolor": "black",
         "mirror": true,
         "nticks": 10,
         "range": [
          0,
          22
         ],
         "showgrid": true,
         "showline": true,
         "ticks": "inside",
         "title": {
          "font": {
           "size": 15
          },
          "standoff": 20
         }
        },
        "yaxis": {
         "linecolor": "black",
         "mirror": true,
         "nticks": 10,
         "range": [
          0,
          1100
         ],
         "showline": true,
         "tickprefix": "$",
         "ticks": "inside",
         "title": {
          "font": {
           "size": 15
          },
          "standoff": 20
         }
        }
       }
      }
     },
     "metadata": {},
     "output_type": "display_data"
    }
   ],
   "source": [
    "df_grouped = df.groupby('Category')['Amount'].sum().reset_index()\n",
    "fig = px.pie(df_grouped, values='Amount', names='Category', title='Montos por Categoría')\n",
    "\n",
    "fig.update_traces(textposition='inside', textinfo='percent+label')\n",
    "fig.update_layout(title=dict(font=dict(size=20)),\n",
    "\n",
    "                #paper_bgcolor='rgba(0,0,0,0)',\n",
    "                #plot_bgcolor='rgba(0,0,0,0)'\n",
    "                  )\n",
    "fig.update_xaxes(\n",
    "    showline=True,mirror=True,linecolor='black',\n",
    "    nticks=10,ticks=\"inside\",\n",
    "    title_font = {\"size\": 15},\n",
    "    showgrid=True,range=[0,22],\n",
    "    title_standoff = 20\n",
    "    )\n",
    "\n",
    "fig.update_yaxes(\n",
    "    showline=True,mirror=True,linecolor='black',\n",
    "    nticks=10,ticks=\"inside\",tickprefix=\"$\",\n",
    "    title_font = {\"size\": 15},range=[0,1100],\n",
    "    title_standoff = 20)\n",
    "\n",
    "fig.update_layout(showlegend=True,\n",
    "                  legend=dict(\n",
    "                      yanchor=\"top\",\n",
    "                      y=0.99,\n",
    "                      xanchor=\"left\",\n",
    "                      x=0.15,\n",
    "                      bordercolor=\"Black\",\n",
    "                      borderwidth=1)\n",
    "                 )\n",
    "\n",
    "fig.write_image('/home/daniel/Proyectos_Daniel/finapp/data/images/pie_px.png', format='png')\n",
    "fig.show()"
   ]
  },
  {
   "cell_type": "code",
   "execution_count": 9,
   "metadata": {},
   "outputs": [
    {
     "data": {
      "text/html": [
       "<div>\n",
       "<style scoped>\n",
       "    .dataframe tbody tr th:only-of-type {\n",
       "        vertical-align: middle;\n",
       "    }\n",
       "\n",
       "    .dataframe tbody tr th {\n",
       "        vertical-align: top;\n",
       "    }\n",
       "\n",
       "    .dataframe thead th {\n",
       "        text-align: right;\n",
       "    }\n",
       "</style>\n",
       "<table border=\"1\" class=\"dataframe\">\n",
       "  <thead>\n",
       "    <tr style=\"text-align: right;\">\n",
       "      <th></th>\n",
       "      <th>Category</th>\n",
       "      <th>Amount</th>\n",
       "    </tr>\n",
       "  </thead>\n",
       "  <tbody>\n",
       "    <tr>\n",
       "      <th>0</th>\n",
       "      <td>Bills &amp; Utilities</td>\n",
       "      <td>2777191.0</td>\n",
       "    </tr>\n",
       "    <tr>\n",
       "      <th>1</th>\n",
       "      <td>Entertainments</td>\n",
       "      <td>567000.0</td>\n",
       "    </tr>\n",
       "    <tr>\n",
       "      <th>2</th>\n",
       "      <td>Extra</td>\n",
       "      <td>342500.0</td>\n",
       "    </tr>\n",
       "    <tr>\n",
       "      <th>3</th>\n",
       "      <td>Fast food</td>\n",
       "      <td>636536.0</td>\n",
       "    </tr>\n",
       "    <tr>\n",
       "      <th>4</th>\n",
       "      <td>Food</td>\n",
       "      <td>488733.0</td>\n",
       "    </tr>\n",
       "    <tr>\n",
       "      <th>5</th>\n",
       "      <td>Health &amp; Wellness</td>\n",
       "      <td>14300.0</td>\n",
       "    </tr>\n",
       "    <tr>\n",
       "      <th>6</th>\n",
       "      <td>Shopping</td>\n",
       "      <td>171712.0</td>\n",
       "    </tr>\n",
       "    <tr>\n",
       "      <th>7</th>\n",
       "      <td>Transport</td>\n",
       "      <td>116800.0</td>\n",
       "    </tr>\n",
       "  </tbody>\n",
       "</table>\n",
       "</div>"
      ],
      "text/plain": [
       "            Category     Amount\n",
       "0  Bills & Utilities  2777191.0\n",
       "1     Entertainments   567000.0\n",
       "2              Extra   342500.0\n",
       "3          Fast food   636536.0\n",
       "4               Food   488733.0\n",
       "5  Health & Wellness    14300.0\n",
       "6           Shopping   171712.0\n",
       "7          Transport   116800.0"
      ]
     },
     "execution_count": 9,
     "metadata": {},
     "output_type": "execute_result"
    }
   ],
   "source": [
    "df_grouped"
   ]
  },
  {
   "cell_type": "code",
   "execution_count": 10,
   "metadata": {},
   "outputs": [
    {
     "data": {
      "text/html": [
       "<div>\n",
       "<style scoped>\n",
       "    .dataframe tbody tr th:only-of-type {\n",
       "        vertical-align: middle;\n",
       "    }\n",
       "\n",
       "    .dataframe tbody tr th {\n",
       "        vertical-align: top;\n",
       "    }\n",
       "\n",
       "    .dataframe thead th {\n",
       "        text-align: right;\n",
       "    }\n",
       "</style>\n",
       "<table border=\"1\" class=\"dataframe\">\n",
       "  <thead>\n",
       "    <tr style=\"text-align: right;\">\n",
       "      <th></th>\n",
       "      <th>Date</th>\n",
       "      <th>Name</th>\n",
       "      <th>Category</th>\n",
       "      <th>Amount</th>\n",
       "      <th>Pay_Method</th>\n",
       "    </tr>\n",
       "  </thead>\n",
       "  <tbody>\n",
       "  </tbody>\n",
       "</table>\n",
       "</div>"
      ],
      "text/plain": [
       "Empty DataFrame\n",
       "Columns: [Date, Name, Category, Amount, Pay_Method]\n",
       "Index: []"
      ]
     },
     "execution_count": 10,
     "metadata": {},
     "output_type": "execute_result"
    }
   ],
   "source": [
    "df.query('Category == \"\"')"
   ]
  },
  {
   "cell_type": "markdown",
   "metadata": {},
   "source": [
    "## Heatmap to display time series data"
   ]
  },
  {
   "cell_type": "code",
   "execution_count": 9,
   "metadata": {},
   "outputs": [],
   "source": [
    "import seaborn as sns\n",
    "from matplotlib.colors import BoundaryNorm, ListedColormap\n",
    "import plotly.graph_objects as go"
   ]
  },
  {
   "cell_type": "code",
   "execution_count": 10,
   "metadata": {},
   "outputs": [
    {
     "data": {
      "text/html": [
       "<div>\n",
       "<style scoped>\n",
       "    .dataframe tbody tr th:only-of-type {\n",
       "        vertical-align: middle;\n",
       "    }\n",
       "\n",
       "    .dataframe tbody tr th {\n",
       "        vertical-align: top;\n",
       "    }\n",
       "\n",
       "    .dataframe thead th {\n",
       "        text-align: right;\n",
       "    }\n",
       "</style>\n",
       "<table border=\"1\" class=\"dataframe\">\n",
       "  <thead>\n",
       "    <tr style=\"text-align: right;\">\n",
       "      <th></th>\n",
       "      <th>Date</th>\n",
       "      <th>Name</th>\n",
       "      <th>Category</th>\n",
       "      <th>Amount</th>\n",
       "      <th>PayMethod</th>\n",
       "      <th>Month</th>\n",
       "    </tr>\n",
       "  </thead>\n",
       "  <tbody>\n",
       "    <tr>\n",
       "      <th>19</th>\n",
       "      <td>2024-03-30</td>\n",
       "      <td>Perritos y cocacola</td>\n",
       "      <td>Fast food</td>\n",
       "      <td>38000</td>\n",
       "      <td>Efectivo</td>\n",
       "      <td>Mar</td>\n",
       "    </tr>\n",
       "    <tr>\n",
       "      <th>20</th>\n",
       "      <td>2024-03-31</td>\n",
       "      <td>Compra minimercado</td>\n",
       "      <td>Fast food</td>\n",
       "      <td>13100</td>\n",
       "      <td>Efectivo</td>\n",
       "      <td>Mar</td>\n",
       "    </tr>\n",
       "  </tbody>\n",
       "</table>\n",
       "</div>"
      ],
      "text/plain": [
       "         Date                 Name   Category  Amount PayMethod Month\n",
       "19 2024-03-30  Perritos y cocacola  Fast food   38000  Efectivo   Mar\n",
       "20 2024-03-31   Compra minimercado  Fast food   13100  Efectivo   Mar"
      ]
     },
     "execution_count": 10,
     "metadata": {},
     "output_type": "execute_result"
    }
   ],
   "source": [
    "expences = expences[expences['Date'].dt.month == 3]\n",
    "expences.head(2)"
   ]
  },
  {
   "cell_type": "code",
   "execution_count": 11,
   "metadata": {},
   "outputs": [],
   "source": [
    "expences.loc[:, 'Day'] = expences['Date'].dt.day\n",
    "timeline_data = expences[['Day', 'Category', 'Amount']]\n",
    "pivoted_data = pd.pivot_table(timeline_data,\n",
    "                              values='Amount',\n",
    "                              index='Category',\n",
    "                              columns='Day')\n",
    "\n",
    "# Completing missing days (no expeses registered) with NaN\n",
    "days_month = np.arange(1, expences['Date'].dt.days_in_month.iloc[0]+1)\n",
    "missing_days = [day for day in days_month if day not in pivoted_data.columns]\n",
    "\n",
    "for day in missing_days:\n",
    "    pivoted_data[day] = pd.Series(dtype='int')\n",
    "\n",
    "pivoted_data = pivoted_data.reindex(sorted(pivoted_data.columns), axis=1)"
   ]
  },
  {
   "cell_type": "code",
   "execution_count": 20,
   "metadata": {},
   "outputs": [],
   "source": [
    "heatmap_colors = ['#a0e0d9', '#72b1aa', '#46847e', '#165954', '#00322e']\n",
    "# heatmap_colors = ['#a0e0d9', '#f9d38b', '#d1ac4f', '#f99893', '#ef516b']\n",
    "my_cmap = ListedColormap(heatmap_colors)\n",
    "limits = [0, 50000, 100000, 200000, 500000, 10e6]\n",
    "my_norm = BoundaryNorm(limits, ncolors=len(heatmap_colors))"
   ]
  },
  {
   "cell_type": "code",
   "execution_count": 21,
   "metadata": {},
   "outputs": [
    {
     "data": {
      "text/plain": [
       "<Axes: xlabel='Day', ylabel='Category'>"
      ]
     },
     "execution_count": 21,
     "metadata": {},
     "output_type": "execute_result"
    },
    {
     "data": {
      "image/png": "[encoded data removed]",
      "text/plain": [
       "<Figure size 1600x600 with 1 Axes>"
      ]
     },
     "metadata": {},
     "output_type": "display_data"
    }
   ],
   "source": [
    "plt.figure(figsize=(16,6))\n",
    "sns.heatmap(pivoted_data,\n",
    "            linewidths=0.5,\n",
    "            cmap=my_cmap,\n",
    "            norm=my_norm,\n",
    "            cbar=False,\n",
    "            linecolor='#464646',\n",
    "            square=True)"
   ]
  },
  {
   "cell_type": "code",
   "execution_count": 17,
   "metadata": {},
   "outputs": [],
   "source": [
    "from src.utils.graphics_visuals import discrete_colorscale"
   ]
  },
  {
   "cell_type": "code",
   "execution_count": 32,
   "metadata": {},
   "outputs": [
    {
     "data": {
      "text/plain": [
       "[[0.0, '#a0e0d9'],\n",
       " [0.01, '#a0e0d9'],\n",
       " [0.01, '#72b1aa'],\n",
       " [0.02, '#72b1aa'],\n",
       " [0.02, '#46847e'],\n",
       " [0.04, '#46847e'],\n",
       " [0.04, '#165954'],\n",
       " [0.1, '#165954'],\n",
       " [0.1, '#00322e'],\n",
       " [1.0, '#00322e']]"
      ]
     },
     "execution_count": 32,
     "metadata": {},
     "output_type": "execute_result"
    }
   ],
   "source": [
    "colorscale"
   ]
  },
  {
   "cell_type": "code",
   "execution_count": 44,
   "metadata": {},
   "outputs": [
    {
     "data": {
      "application/vnd.plotly.v1+json": {
       "config": {
        "plotlyServerURL": "https://plot.ly"
       },
       "data": [
        {
         "colorscale": [
          [
           0,
           "#a0e0d9"
          ],
          [
           0.01,
           "#a0e0d9"
          ],
          [
           0.01,
           "#72b1aa"
          ],
          [
           0.02,
           "#72b1aa"
          ],
          [
           0.02,
           "#46847e"
          ],
          [
           0.04,
           "#46847e"
          ],
          [
           0.04,
           "#165954"
          ],
          [
           0.1,
           "#165954"
          ],
          [
           0.1,
           "#00322e"
          ],
          [
           1,
           "#00322e"
          ]
         ],
         "type": "heatmap",
         "x": [
          30,
          31,
          31,
          27,
          26,
          25,
          27,
          29,
          27,
          27,
          26,
          26,
          24,
          23,
          22,
          22,
          21,
          21,
          20,
          20,
          20,
          18,
          18,
          18,
          17,
          18,
          17,
          17,
          17,
          17,
          16,
          15,
          15,
          17,
          17,
          16,
          16,
          16,
          16,
          13,
          12,
          12,
          12,
          11,
          11,
          8,
          10,
          10,
          10,
          10,
          9,
          10,
          9,
          10,
          9,
          9,
          9,
          9,
          8,
          8,
          7,
          1,
          7,
          7,
          7,
          7,
          6,
          5,
          5,
          3,
          5,
          5,
          3,
          3,
          3,
          2
         ],
         "y": [
          "Fast food",
          "Fast food",
          "Transport",
          "Entertainments",
          "Fast food",
          "Food",
          "Fast food",
          "Shopping",
          "Transport",
          "Shopping",
          "Bills & Utilities",
          "Bills & Utilities",
          "Fast food",
          "Fast food",
          "Fast food",
          "Fast food",
          "Food",
          "Transport",
          "Entertainments",
          "Food",
          "Transport",
          "Food",
          "Fast food",
          "Fast food",
          "Transport",
          "Entertainments",
          "Bills & Utilities",
          "Transport",
          "Health & Wellness",
          "Fast food",
          "Bills & Utilities",
          "Bills & Utilities",
          "Fast food",
          "Fast food",
          "Entertainments",
          "Fast food",
          "Entertainments",
          "Transport",
          "Fast food",
          "Entertainments",
          "Transport",
          "Fast food",
          "Fast food",
          "Food",
          "Bills & Utilities",
          "Extra",
          "Bills & Utilities",
          "Fast food",
          "Entertainments",
          "Shopping",
          "Fast food",
          "Transport",
          "Fast food",
          "Fast food",
          "Transport",
          "Entertainments",
          "Food",
          "Extra",
          "Food",
          "Bills & Utilities",
          "Extra",
          "Food",
          "Bills & Utilities",
          "Bills & Utilities",
          "Food",
          "Fast food",
          "Transport",
          "Fast food",
          "Fast food",
          "Transport",
          "Entertainments",
          "Transport",
          "Fast food",
          "Food",
          "Shopping",
          "Transport"
         ],
         "z": [
          38000,
          13100,
          15500,
          623982,
          7940,
          32410,
          50000,
          105000,
          30000,
          32000,
          300000,
          16000,
          15000,
          17500,
          15000,
          6900,
          5500,
          10000,
          48900,
          20330,
          10900,
          17980,
          5000,
          12000,
          8000,
          93000,
          25000,
          10000,
          14300,
          30000,
          900000,
          14190,
          20000,
          49800,
          177000,
          65119,
          22900,
          9800,
          15800,
          28000,
          7000,
          8900,
          37500,
          10600,
          35040,
          130000,
          300000,
          37900,
          33000,
          45000,
          60000,
          20100,
          9900,
          3500,
          7600,
          18000,
          28000,
          5500,
          14000,
          102835,
          107000,
          50360,
          752198,
          300000,
          30621,
          21250,
          4000,
          14000,
          35000,
          5000,
          14000,
          15000,
          57800,
          311342,
          36712,
          9400
         ]
        }
       ],
       "layout": {
        "template": {
         "data": {
          "candlestick": [
           {
            "decreasing": {
             "line": {
              "color": "#000033"
             }
            },
            "increasing": {
             "line": {
              "color": "#000032"
             }
            },
            "type": "candlestick"
           }
          ],
          "contour": [
           {
            "colorscale": [
             [
              0,
              "#000011"
             ],
             [
              0.1111111111111111,
              "#000012"
             ],
             [
              0.2222222222222222,
              "#000013"
             ],
             [
              0.3333333333333333,
              "#000014"
             ],
             [
              0.4444444444444444,
              "#000015"
             ],
             [
              0.5555555555555556,
              "#000016"
             ],
             [
              0.6666666666666666,
              "#000017"
             ],
             [
              0.7777777777777778,
              "#000018"
             ],
             [
              0.8888888888888888,
              "#000019"
             ],
             [
              1,
              "#000020"
             ]
            ],
            "type": "contour"
           }
          ],
          "contourcarpet": [
           {
            "colorscale": [
             [
              0,
              "#000011"
             ],
             [
              0.1111111111111111,
              "#000012"
             ],
             [
              0.2222222222222222,
              "#000013"
             ],
             [
              0.3333333333333333,
              "#000014"
             ],
             [
              0.4444444444444444,
              "#000015"
             ],
             [
              0.5555555555555556,
              "#000016"
             ],
             [
              0.6666666666666666,
              "#000017"
             ],
             [
              0.7777777777777778,
              "#000018"
             ],
             [
              0.8888888888888888,
              "#000019"
             ],
             [
              1,
              "#000020"
             ]
            ],
            "type": "contourcarpet"
           }
          ],
          "heatmap": [
           {
            "colorscale": [
             [
              0,
              "#000011"
             ],
             [
              0.1111111111111111,
              "#000012"
             ],
             [
              0.2222222222222222,
              "#000013"
             ],
             [
              0.3333333333333333,
              "#000014"
             ],
             [
              0.4444444444444444,
              "#000015"
             ],
             [
              0.5555555555555556,
              "#000016"
             ],
             [
              0.6666666666666666,
              "#000017"
             ],
             [
              0.7777777777777778,
              "#000018"
             ],
             [
              0.8888888888888888,
              "#000019"
             ],
             [
              1,
              "#000020"
             ]
            ],
            "type": "heatmap"
           }
          ],
          "histogram2d": [
           {
            "colorscale": [
             [
              0,
              "#000011"
             ],
             [
              0.1111111111111111,
              "#000012"
             ],
             [
              0.2222222222222222,
              "#000013"
             ],
             [
              0.3333333333333333,
              "#000014"
             ],
             [
              0.4444444444444444,
              "#000015"
             ],
             [
              0.5555555555555556,
              "#000016"
             ],
             [
              0.6666666666666666,
              "#000017"
             ],
             [
              0.7777777777777778,
              "#000018"
             ],
             [
              0.8888888888888888,
              "#000019"
             ],
             [
              1,
              "#000020"
             ]
            ],
            "type": "histogram2d"
           }
          ],
          "icicle": [
           {
            "textfont": {
             "color": "white"
            },
            "type": "icicle"
           }
          ],
          "sankey": [
           {
            "textfont": {
             "color": "#000036"
            },
            "type": "sankey"
           }
          ],
          "scatter": [
           {
            "marker": {
             "line": {
              "width": 0
             }
            },
            "type": "scatter"
           }
          ],
          "table": [
           {
            "cells": {
             "fill": {
              "color": "#000038"
             },
             "font": {
              "color": "#000037"
             },
             "line": {
              "color": "#000039"
             }
            },
            "header": {
             "fill": {
              "color": "#000040"
             },
             "font": {
              "color": "#000036"
             },
             "line": {
              "color": "#000039"
             }
            },
            "type": "table"
           }
          ],
          "waterfall": [
           {
            "connector": {
             "line": {
              "color": "#000036",
              "width": 2
             }
            },
            "decreasing": {
             "marker": {
              "color": "#000033"
             }
            },
            "increasing": {
             "marker": {
              "color": "#000032"
             }
            },
            "totals": {
             "marker": {
              "color": "#000034"
             }
            },
            "type": "waterfall"
           }
          ]
         },
         "layout": {
          "coloraxis": {
           "colorscale": [
            [
             0,
             "#000011"
            ],
            [
             0.1111111111111111,
             "#000012"
            ],
            [
             0.2222222222222222,
             "#000013"
            ],
            [
             0.3333333333333333,
             "#000014"
            ],
            [
             0.4444444444444444,
             "#000015"
            ],
            [
             0.5555555555555556,
             "#000016"
            ],
            [
             0.6666666666666666,
             "#000017"
            ],
            [
             0.7777777777777778,
             "#000018"
            ],
            [
             0.8888888888888888,
             "#000019"
            ],
            [
             1,
             "#000020"
            ]
           ]
          },
          "colorscale": {
           "diverging": [
            [
             0,
             "#000021"
            ],
            [
             0.1,
             "#000022"
            ],
            [
             0.2,
             "#000023"
            ],
            [
             0.3,
             "#000024"
            ],
            [
             0.4,
             "#000025"
            ],
            [
             0.5,
             "#000026"
            ],
            [
             0.6,
             "#000027"
            ],
            [
             0.7,
             "#000028"
            ],
            [
             0.8,
             "#000029"
            ],
            [
             0.9,
             "#000030"
            ],
            [
             1,
             "#000031"
            ]
           ],
           "sequential": [
            [
             0,
             "#000011"
            ],
            [
             0.1111111111111111,
             "#000012"
            ],
            [
             0.2222222222222222,
             "#000013"
            ],
            [
             0.3333333333333333,
             "#000014"
            ],
            [
             0.4444444444444444,
             "#000015"
            ],
            [
             0.5555555555555556,
             "#000016"
            ],
            [
             0.6666666666666666,
             "#000017"
            ],
            [
             0.7777777777777778,
             "#000018"
            ],
            [
             0.8888888888888888,
             "#000019"
            ],
            [
             1,
             "#000020"
            ]
           ],
           "sequentialminus": [
            [
             0,
             "#000011"
            ],
            [
             0.1111111111111111,
             "#000012"
            ],
            [
             0.2222222222222222,
             "#000013"
            ],
            [
             0.3333333333333333,
             "#000014"
            ],
            [
             0.4444444444444444,
             "#000015"
            ],
            [
             0.5555555555555556,
             "#000016"
            ],
            [
             0.6666666666666666,
             "#000017"
            ],
            [
             0.7777777777777778,
             "#000018"
            ],
            [
             0.8888888888888888,
             "#000019"
            ],
            [
             1,
             "#000020"
            ]
           ]
          },
          "colorway": [
           "#000001",
           "#000002",
           "#000003",
           "#000004",
           "#000005",
           "#000006",
           "#000007",
           "#000008",
           "#000009",
           "#000010"
          ]
         }
        },
        "xaxis": {
         "dtick": 1,
         "tickmode": "linear"
        }
       }
      }
     },
     "metadata": {},
     "output_type": "display_data"
    }
   ],
   "source": [
    "heatmap_colors = ['#a0e0d9', '#72b1aa', '#46847e', '#165954', '#00322e']\n",
    "limits = [0, 50000, 100000, 200000, 500000, 5e6]\n",
    "colorscale = discrete_colorscale(limits, heatmap_colors)\n",
    "\n",
    "fig = go.Figure(data=go.Heatmap(z = timeline_data['Amount'],\n",
    "                                x = timeline_data['Day'],\n",
    "                                y = timeline_data['Category'],\n",
    "                                colorscale=colorscale))\n",
    "fig.update_layout(xaxis = dict(tickmode = 'linear',\n",
    "                               dtick = 1))\n",
    "fig.show()"
   ]
  },
  {
   "cell_type": "code",
   "execution_count": 15,
   "metadata": {},
   "outputs": [
    {
     "data": {
      "application/vnd.plotly.v1+json": {
       "config": {
        "plotlyServerURL": "https://plot.ly"
       },
       "data": [
        {
         "coloraxis": "coloraxis",
         "hovertemplate": "Day: %{x}<br>Category: %{y}<br>color: %{z}<extra></extra>",
         "name": "0",
         "type": "heatmap",
         "x": [
          1,
          2,
          3,
          4,
          5,
          6,
          7,
          8,
          9,
          10,
          11,
          12,
          13,
          14,
          15,
          16,
          17,
          18,
          19,
          20,
          21,
          22,
          23,
          24,
          25,
          26,
          27,
          28,
          29,
          30,
          31
         ],
         "xaxis": "x",
         "y": [
          "Bills & Utilities",
          "Entertainments",
          "Extra",
          "Fast food",
          "Food",
          "Health & Wellness",
          "Shopping",
          "Transport"
         ],
         "yaxis": "y",
         "z": [
          [
           null,
           null,
           null,
           null,
           null,
           null,
           526099,
           102835,
           null,
           300000,
           35040,
           null,
           null,
           null,
           14190,
           900000,
           25000,
           null,
           null,
           null,
           null,
           null,
           null,
           null,
           null,
           158000,
           null,
           null,
           null,
           null,
           null
          ],
          [
           null,
           null,
           null,
           null,
           14000,
           null,
           null,
           null,
           18000,
           33000,
           null,
           null,
           28000,
           null,
           null,
           22900,
           177000,
           93000,
           null,
           48900,
           null,
           null,
           null,
           null,
           null,
           null,
           623982,
           null,
           null,
           null,
           null
          ],
          [
           null,
           null,
           null,
           null,
           null,
           null,
           107000,
           130000,
           5500,
           null,
           null,
           null,
           null,
           null,
           null,
           null,
           null,
           null,
           null,
           null,
           null,
           null,
           null,
           null,
           null,
           null,
           null,
           null,
           null,
           null,
           null
          ],
          [
           null,
           null,
           57800,
           null,
           24500,
           null,
           21250,
           null,
           34950,
           20700,
           null,
           23200,
           null,
           null,
           20000,
           40459.5,
           39900,
           8500,
           null,
           null,
           null,
           10950,
           17500,
           15000,
           null,
           7940,
           50000,
           null,
           null,
           38000,
           13100
          ],
          [
           50360,
           null,
           311342,
           null,
           null,
           null,
           30621,
           14000,
           28000,
           null,
           10600,
           null,
           null,
           null,
           null,
           null,
           null,
           17980,
           null,
           20330,
           5500,
           null,
           null,
           null,
           32410,
           null,
           null,
           null,
           null,
           null,
           null
          ],
          [
           null,
           null,
           null,
           null,
           null,
           null,
           null,
           null,
           null,
           null,
           null,
           null,
           null,
           null,
           null,
           null,
           14300,
           null,
           null,
           null,
           null,
           null,
           null,
           null,
           null,
           null,
           null,
           null,
           null,
           null,
           null
          ],
          [
           null,
           null,
           36712,
           null,
           null,
           null,
           null,
           null,
           null,
           45000,
           null,
           null,
           null,
           null,
           null,
           null,
           null,
           null,
           null,
           null,
           null,
           null,
           null,
           null,
           null,
           null,
           32000,
           null,
           105000,
           null,
           null
          ],
          [
           null,
           9400,
           5000,
           null,
           15000,
           4000,
           null,
           null,
           7600,
           20100,
           null,
           7000,
           null,
           null,
           null,
           9800,
           9000,
           null,
           null,
           10900,
           10000,
           null,
           null,
           null,
           null,
           null,
           30000,
           null,
           null,
           null,
           15500
          ]
         ]
        }
       ],
       "layout": {
        "coloraxis": {
         "colorscale": [
          [
           0,
           "#a0e0d9"
          ],
          [
           0.25,
           "#72b1aa"
          ],
          [
           0.5,
           "#46847e"
          ],
          [
           0.75,
           "#165954"
          ],
          [
           1,
           "#00322e"
          ]
         ]
        },
        "margin": {
         "t": 60
        },
        "template": {
         "data": {
          "candlestick": [
           {
            "decreasing": {
             "line": {
              "color": "#000033"
             }
            },
            "increasing": {
             "line": {
              "color": "#000032"
             }
            },
            "type": "candlestick"
           }
          ],
          "contour": [
           {
            "colorscale": [
             [
              0,
              "#000011"
             ],
             [
              0.1111111111111111,
              "#000012"
             ],
             [
              0.2222222222222222,
              "#000013"
             ],
             [
              0.3333333333333333,
              "#000014"
             ],
             [
              0.4444444444444444,
              "#000015"
             ],
             [
              0.5555555555555556,
              "#000016"
             ],
             [
              0.6666666666666666,
              "#000017"
             ],
             [
              0.7777777777777778,
              "#000018"
             ],
             [
              0.8888888888888888,
              "#000019"
             ],
             [
              1,
              "#000020"
             ]
            ],
            "type": "contour"
           }
          ],
          "contourcarpet": [
           {
            "colorscale": [
             [
              0,
              "#000011"
             ],
             [
              0.1111111111111111,
              "#000012"
             ],
             [
              0.2222222222222222,
              "#000013"
             ],
             [
              0.3333333333333333,
              "#000014"
             ],
             [
              0.4444444444444444,
              "#000015"
             ],
             [
              0.5555555555555556,
              "#000016"
             ],
             [
              0.6666666666666666,
              "#000017"
             ],
             [
              0.7777777777777778,
              "#000018"
             ],
             [
              0.8888888888888888,
              "#000019"
             ],
             [
              1,
              "#000020"
             ]
            ],
            "type": "contourcarpet"
           }
          ],
          "heatmap": [
           {
            "colorscale": [
             [
              0,
              "#000011"
             ],
             [
              0.1111111111111111,
              "#000012"
             ],
             [
              0.2222222222222222,
              "#000013"
             ],
             [
              0.3333333333333333,
              "#000014"
             ],
             [
              0.4444444444444444,
              "#000015"
             ],
             [
              0.5555555555555556,
              "#000016"
             ],
             [
              0.6666666666666666,
              "#000017"
             ],
             [
              0.7777777777777778,
              "#000018"
             ],
             [
              0.8888888888888888,
              "#000019"
             ],
             [
              1,
              "#000020"
             ]
            ],
            "type": "heatmap"
           }
          ],
          "histogram2d": [
           {
            "colorscale": [
             [
              0,
              "#000011"
             ],
             [
              0.1111111111111111,
              "#000012"
             ],
             [
              0.2222222222222222,
              "#000013"
             ],
             [
              0.3333333333333333,
              "#000014"
             ],
             [
              0.4444444444444444,
              "#000015"
             ],
             [
              0.5555555555555556,
              "#000016"
             ],
             [
              0.6666666666666666,
              "#000017"
             ],
             [
              0.7777777777777778,
              "#000018"
             ],
             [
              0.8888888888888888,
              "#000019"
             ],
             [
              1,
              "#000020"
             ]
            ],
            "type": "histogram2d"
           }
          ],
          "icicle": [
           {
            "textfont": {
             "color": "white"
            },
            "type": "icicle"
           }
          ],
          "sankey": [
           {
            "textfont": {
             "color": "#000036"
            },
            "type": "sankey"
           }
          ],
          "scatter": [
           {
            "marker": {
             "line": {
              "width": 0
             }
            },
            "type": "scatter"
           }
          ],
          "table": [
           {
            "cells": {
             "fill": {
              "color": "#000038"
             },
             "font": {
              "color": "#000037"
             },
             "line": {
              "color": "#000039"
             }
            },
            "header": {
             "fill": {
              "color": "#000040"
             },
             "font": {
              "color": "#000036"
             },
             "line": {
              "color": "#000039"
             }
            },
            "type": "table"
           }
          ],
          "waterfall": [
           {
            "connector": {
             "line": {
              "color": "#000036",
              "width": 2
             }
            },
            "decreasing": {
             "marker": {
              "color": "#000033"
             }
            },
            "increasing": {
             "marker": {
              "color": "#000032"
             }
            },
            "totals": {
             "marker": {
              "color": "#000034"
             }
            },
            "type": "waterfall"
           }
          ]
         },
         "layout": {
          "coloraxis": {
           "colorscale": [
            [
             0,
             "#000011"
            ],
            [
             0.1111111111111111,
             "#000012"
            ],
            [
             0.2222222222222222,
             "#000013"
            ],
            [
             0.3333333333333333,
             "#000014"
            ],
            [
             0.4444444444444444,
             "#000015"
            ],
            [
             0.5555555555555556,
             "#000016"
            ],
            [
             0.6666666666666666,
             "#000017"
            ],
            [
             0.7777777777777778,
             "#000018"
            ],
            [
             0.8888888888888888,
             "#000019"
            ],
            [
             1,
             "#000020"
            ]
           ]
          },
          "colorscale": {
           "diverging": [
            [
             0,
             "#000021"
            ],
            [
             0.1,
             "#000022"
            ],
            [
             0.2,
             "#000023"
            ],
            [
             0.3,
             "#000024"
            ],
            [
             0.4,
             "#000025"
            ],
            [
             0.5,
             "#000026"
            ],
            [
             0.6,
             "#000027"
            ],
            [
             0.7,
             "#000028"
            ],
            [
             0.8,
             "#000029"
            ],
            [
             0.9,
             "#000030"
            ],
            [
             1,
             "#000031"
            ]
           ],
           "sequential": [
            [
             0,
             "#000011"
            ],
            [
             0.1111111111111111,
             "#000012"
            ],
            [
             0.2222222222222222,
             "#000013"
            ],
            [
             0.3333333333333333,
             "#000014"
            ],
            [
             0.4444444444444444,
             "#000015"
            ],
            [
             0.5555555555555556,
             "#000016"
            ],
            [
             0.6666666666666666,
             "#000017"
            ],
            [
             0.7777777777777778,
             "#000018"
            ],
            [
             0.8888888888888888,
             "#000019"
            ],
            [
             1,
             "#000020"
            ]
           ],
           "sequentialminus": [
            [
             0,
             "#000011"
            ],
            [
             0.1111111111111111,
             "#000012"
            ],
            [
             0.2222222222222222,
             "#000013"
            ],
            [
             0.3333333333333333,
             "#000014"
            ],
            [
             0.4444444444444444,
             "#000015"
            ],
            [
             0.5555555555555556,
             "#000016"
            ],
            [
             0.6666666666666666,
             "#000017"
            ],
            [
             0.7777777777777778,
             "#000018"
            ],
            [
             0.8888888888888888,
             "#000019"
            ],
            [
             1,
             "#000020"
            ]
           ]
          },
          "colorway": [
           "#000001",
           "#000002",
           "#000003",
           "#000004",
           "#000005",
           "#000006",
           "#000007",
           "#000008",
           "#000009",
           "#000010"
          ]
         }
        },
        "xaxis": {
         "anchor": "y",
         "constrain": "domain",
         "domain": [
          0,
          1
         ],
         "scaleanchor": "y",
         "title": {
          "text": "Day"
         }
        },
        "yaxis": {
         "anchor": "x",
         "autorange": "reversed",
         "constrain": "domain",
         "domain": [
          0,
          1
         ],
         "title": {
          "text": "Category"
         }
        }
       }
      }
     },
     "metadata": {},
     "output_type": "display_data"
    }
   ],
   "source": [
    "fig = px.imshow(pivoted_data,\n",
    "                color_continuous_scale=heatmap_colors,\n",
    "                aspect='equal')\n",
    "fig.show()"
   ]
  },
  {
   "cell_type": "code",
   "execution_count": 47,
   "metadata": {},
   "outputs": [
    {
     "data": {
      "application/vnd.plotly.v1+json": {
       "config": {
        "plotlyServerURL": "https://plot.ly"
       },
       "data": [
        {
         "coloraxis": "coloraxis",
         "hovertemplate": "Day: %{x}<br>Category: %{y}<br>color: %{z}<extra></extra>",
         "name": "0",
         "type": "heatmap",
         "x": [
          1,
          2,
          3,
          4,
          5,
          6,
          7,
          8,
          9,
          10,
          11,
          12,
          13,
          14,
          15,
          16,
          17,
          18,
          19,
          20,
          21,
          22,
          23,
          24,
          25,
          26,
          27,
          28,
          29,
          30,
          31
         ],
         "xaxis": "x",
         "y": [
          "Bills & Utilities",
          "Entertainments",
          "Extra",
          "Fast food",
          "Food",
          "Health & Wellness",
          "Shopping",
          "Transport"
         ],
         "yaxis": "y",
         "z": [
          [
           null,
           null,
           null,
           null,
           null,
           null,
           526099,
           102835,
           null,
           300000,
           35040,
           null,
           null,
           null,
           14190,
           900000,
           25000,
           null,
           null,
           null,
           null,
           null,
           null,
           null,
           null,
           158000,
           null,
           null,
           null,
           null,
           null
          ],
          [
           null,
           null,
           null,
           null,
           14000,
           null,
           null,
           null,
           18000,
           33000,
           null,
           null,
           28000,
           null,
           null,
           22900,
           177000,
           93000,
           null,
           48900,
           null,
           null,
           null,
           null,
           null,
           null,
           623982,
           null,
           null,
           null,
           null
          ],
          [
           null,
           null,
           null,
           null,
           null,
           null,
           107000,
           130000,
           5500,
           null,
           null,
           null,
           null,
           null,
           null,
           null,
           null,
           null,
           null,
           null,
           null,
           null,
           null,
           null,
           null,
           null,
           null,
           null,
           null,
           null,
           null
          ],
          [
           null,
           null,
           57800,
           null,
           24500,
           null,
           21250,
           null,
           34950,
           20700,
           null,
           23200,
           null,
           null,
           20000,
           40459.5,
           39900,
           8500,
           null,
           null,
           null,
           10950,
           17500,
           15000,
           null,
           7940,
           50000,
           null,
           null,
           38000,
           13100
          ],
          [
           50360,
           null,
           311342,
           null,
           null,
           null,
           30621,
           14000,
           28000,
           null,
           10600,
           null,
           null,
           null,
           null,
           null,
           null,
           17980,
           null,
           20330,
           5500,
           null,
           null,
           null,
           32410,
           null,
           null,
           null,
           null,
           null,
           null
          ],
          [
           null,
           null,
           null,
           null,
           null,
           null,
           null,
           null,
           null,
           null,
           null,
           null,
           null,
           null,
           null,
           null,
           14300,
           null,
           null,
           null,
           null,
           null,
           null,
           null,
           null,
           null,
           null,
           null,
           null,
           null,
           null
          ],
          [
           null,
           null,
           36712,
           null,
           null,
           null,
           null,
           null,
           null,
           45000,
           null,
           null,
           null,
           null,
           null,
           null,
           null,
           null,
           null,
           null,
           null,
           null,
           null,
           null,
           null,
           null,
           32000,
           null,
           105000,
           null,
           null
          ],
          [
           null,
           9400,
           5000,
           null,
           15000,
           4000,
           null,
           null,
           7600,
           20100,
           null,
           7000,
           null,
           null,
           null,
           9800,
           9000,
           null,
           null,
           10900,
           10000,
           null,
           null,
           null,
           null,
           null,
           30000,
           null,
           null,
           null,
           15500
          ]
         ]
        }
       ],
       "layout": {
        "coloraxis": {
         "colorscale": [
          [
           0,
           "#a0e0d9"
          ],
          [
           0.01,
           "#a0e0d9"
          ],
          [
           0.01,
           "#72b1aa"
          ],
          [
           0.02,
           "#72b1aa"
          ],
          [
           0.02,
           "#46847e"
          ],
          [
           0.04,
           "#46847e"
          ],
          [
           0.04,
           "#165954"
          ],
          [
           0.1,
           "#165954"
          ],
          [
           0.1,
           "#00322e"
          ],
          [
           1,
           "#00322e"
          ]
         ],
         "showscale": true
        },
        "margin": {
         "t": 60
        },
        "shapes": [
         {
          "line": {
           "color": "white",
           "width": 2
          },
          "type": "line",
          "x0": 0.5,
          "x1": 0.5,
          "y0": -0.5,
          "y1": 7.5
         },
         {
          "line": {
           "color": "white",
           "width": 2
          },
          "type": "line",
          "x0": 1.5,
          "x1": 1.5,
          "y0": -0.5,
          "y1": 7.5
         },
         {
          "line": {
           "color": "white",
           "width": 2
          },
          "type": "line",
          "x0": 2.5,
          "x1": 2.5,
          "y0": -0.5,
          "y1": 7.5
         },
         {
          "line": {
           "color": "white",
           "width": 2
          },
          "type": "line",
          "x0": 3.5,
          "x1": 3.5,
          "y0": -0.5,
          "y1": 7.5
         },
         {
          "line": {
           "color": "white",
           "width": 2
          },
          "type": "line",
          "x0": 4.5,
          "x1": 4.5,
          "y0": -0.5,
          "y1": 7.5
         },
         {
          "line": {
           "color": "white",
           "width": 2
          },
          "type": "line",
          "x0": 5.5,
          "x1": 5.5,
          "y0": -0.5,
          "y1": 7.5
         },
         {
          "line": {
           "color": "white",
           "width": 2
          },
          "type": "line",
          "x0": 6.5,
          "x1": 6.5,
          "y0": -0.5,
          "y1": 7.5
         },
         {
          "line": {
           "color": "white",
           "width": 2
          },
          "type": "line",
          "x0": 7.5,
          "x1": 7.5,
          "y0": -0.5,
          "y1": 7.5
         },
         {
          "line": {
           "color": "white",
           "width": 2
          },
          "type": "line",
          "x0": 8.5,
          "x1": 8.5,
          "y0": -0.5,
          "y1": 7.5
         },
         {
          "line": {
           "color": "white",
           "width": 2
          },
          "type": "line",
          "x0": 9.5,
          "x1": 9.5,
          "y0": -0.5,
          "y1": 7.5
         },
         {
          "line": {
           "color": "white",
           "width": 2
          },
          "type": "line",
          "x0": 10.5,
          "x1": 10.5,
          "y0": -0.5,
          "y1": 7.5
         },
         {
          "line": {
           "color": "white",
           "width": 2
          },
          "type": "line",
          "x0": 11.5,
          "x1": 11.5,
          "y0": -0.5,
          "y1": 7.5
         },
         {
          "line": {
           "color": "white",
           "width": 2
          },
          "type": "line",
          "x0": 12.5,
          "x1": 12.5,
          "y0": -0.5,
          "y1": 7.5
         },
         {
          "line": {
           "color": "white",
           "width": 2
          },
          "type": "line",
          "x0": 13.5,
          "x1": 13.5,
          "y0": -0.5,
          "y1": 7.5
         },
         {
          "line": {
           "color": "white",
           "width": 2
          },
          "type": "line",
          "x0": 14.5,
          "x1": 14.5,
          "y0": -0.5,
          "y1": 7.5
         },
         {
          "line": {
           "color": "white",
           "width": 2
          },
          "type": "line",
          "x0": 15.5,
          "x1": 15.5,
          "y0": -0.5,
          "y1": 7.5
         },
         {
          "line": {
           "color": "white",
           "width": 2
          },
          "type": "line",
          "x0": 16.5,
          "x1": 16.5,
          "y0": -0.5,
          "y1": 7.5
         },
         {
          "line": {
           "color": "white",
           "width": 2
          },
          "type": "line",
          "x0": 17.5,
          "x1": 17.5,
          "y0": -0.5,
          "y1": 7.5
         },
         {
          "line": {
           "color": "white",
           "width": 2
          },
          "type": "line",
          "x0": 18.5,
          "x1": 18.5,
          "y0": -0.5,
          "y1": 7.5
         },
         {
          "line": {
           "color": "white",
           "width": 2
          },
          "type": "line",
          "x0": 19.5,
          "x1": 19.5,
          "y0": -0.5,
          "y1": 7.5
         },
         {
          "line": {
           "color": "white",
           "width": 2
          },
          "type": "line",
          "x0": 20.5,
          "x1": 20.5,
          "y0": -0.5,
          "y1": 7.5
         },
         {
          "line": {
           "color": "white",
           "width": 2
          },
          "type": "line",
          "x0": 21.5,
          "x1": 21.5,
          "y0": -0.5,
          "y1": 7.5
         },
         {
          "line": {
           "color": "white",
           "width": 2
          },
          "type": "line",
          "x0": 22.5,
          "x1": 22.5,
          "y0": -0.5,
          "y1": 7.5
         },
         {
          "line": {
           "color": "white",
           "width": 2
          },
          "type": "line",
          "x0": 23.5,
          "x1": 23.5,
          "y0": -0.5,
          "y1": 7.5
         },
         {
          "line": {
           "color": "white",
           "width": 2
          },
          "type": "line",
          "x0": 24.5,
          "x1": 24.5,
          "y0": -0.5,
          "y1": 7.5
         },
         {
          "line": {
           "color": "white",
           "width": 2
          },
          "type": "line",
          "x0": 25.5,
          "x1": 25.5,
          "y0": -0.5,
          "y1": 7.5
         },
         {
          "line": {
           "color": "white",
           "width": 2
          },
          "type": "line",
          "x0": 26.5,
          "x1": 26.5,
          "y0": -0.5,
          "y1": 7.5
         },
         {
          "line": {
           "color": "white",
           "width": 2
          },
          "type": "line",
          "x0": 27.5,
          "x1": 27.5,
          "y0": -0.5,
          "y1": 7.5
         },
         {
          "line": {
           "color": "white",
           "width": 2
          },
          "type": "line",
          "x0": 28.5,
          "x1": 28.5,
          "y0": -0.5,
          "y1": 7.5
         },
         {
          "line": {
           "color": "white",
           "width": 2
          },
          "type": "line",
          "x0": 29.5,
          "x1": 29.5,
          "y0": -0.5,
          "y1": 7.5
         },
         {
          "line": {
           "color": "white",
           "width": 2
          },
          "type": "line",
          "x0": 30.5,
          "x1": 30.5,
          "y0": -0.5,
          "y1": 7.5
         },
         {
          "line": {
           "color": "white",
           "width": 2
          },
          "type": "line",
          "x0": -0.5,
          "x1": 30.5,
          "y0": 0.5,
          "y1": 0.5
         },
         {
          "line": {
           "color": "white",
           "width": 2
          },
          "type": "line",
          "x0": -0.5,
          "x1": 30.5,
          "y0": 1.5,
          "y1": 1.5
         },
         {
          "line": {
           "color": "white",
           "width": 2
          },
          "type": "line",
          "x0": -0.5,
          "x1": 30.5,
          "y0": 2.5,
          "y1": 2.5
         },
         {
          "line": {
           "color": "white",
           "width": 2
          },
          "type": "line",
          "x0": -0.5,
          "x1": 30.5,
          "y0": 3.5,
          "y1": 3.5
         },
         {
          "line": {
           "color": "white",
           "width": 2
          },
          "type": "line",
          "x0": -0.5,
          "x1": 30.5,
          "y0": 4.5,
          "y1": 4.5
         },
         {
          "line": {
           "color": "white",
           "width": 2
          },
          "type": "line",
          "x0": -0.5,
          "x1": 30.5,
          "y0": 5.5,
          "y1": 5.5
         },
         {
          "line": {
           "color": "white",
           "width": 2
          },
          "type": "line",
          "x0": -0.5,
          "x1": 30.5,
          "y0": 6.5,
          "y1": 6.5
         },
         {
          "line": {
           "color": "white",
           "width": 2
          },
          "type": "line",
          "x0": -0.5,
          "x1": 30.5,
          "y0": 7.5,
          "y1": 7.5
         }
        ],
        "template": {
         "data": {
          "candlestick": [
           {
            "decreasing": {
             "line": {
              "color": "#000033"
             }
            },
            "increasing": {
             "line": {
              "color": "#000032"
             }
            },
            "type": "candlestick"
           }
          ],
          "contour": [
           {
            "colorscale": [
             [
              0,
              "#000011"
             ],
             [
              0.1111111111111111,
              "#000012"
             ],
             [
              0.2222222222222222,
              "#000013"
             ],
             [
              0.3333333333333333,
              "#000014"
             ],
             [
              0.4444444444444444,
              "#000015"
             ],
             [
              0.5555555555555556,
              "#000016"
             ],
             [
              0.6666666666666666,
              "#000017"
             ],
             [
              0.7777777777777778,
              "#000018"
             ],
             [
              0.8888888888888888,
              "#000019"
             ],
             [
              1,
              "#000020"
             ]
            ],
            "type": "contour"
           }
          ],
          "contourcarpet": [
           {
            "colorscale": [
             [
              0,
              "#000011"
             ],
             [
              0.1111111111111111,
              "#000012"
             ],
             [
              0.2222222222222222,
              "#000013"
             ],
             [
              0.3333333333333333,
              "#000014"
             ],
             [
              0.4444444444444444,
              "#000015"
             ],
             [
              0.5555555555555556,
              "#000016"
             ],
             [
              0.6666666666666666,
              "#000017"
             ],
             [
              0.7777777777777778,
              "#000018"
             ],
             [
              0.8888888888888888,
              "#000019"
             ],
             [
              1,
              "#000020"
             ]
            ],
            "type": "contourcarpet"
           }
          ],
          "heatmap": [
           {
            "colorscale": [
             [
              0,
              "#000011"
             ],
             [
              0.1111111111111111,
              "#000012"
             ],
             [
              0.2222222222222222,
              "#000013"
             ],
             [
              0.3333333333333333,
              "#000014"
             ],
             [
              0.4444444444444444,
              "#000015"
             ],
             [
              0.5555555555555556,
              "#000016"
             ],
             [
              0.6666666666666666,
              "#000017"
             ],
             [
              0.7777777777777778,
              "#000018"
             ],
             [
              0.8888888888888888,
              "#000019"
             ],
             [
              1,
              "#000020"
             ]
            ],
            "type": "heatmap"
           }
          ],
          "histogram2d": [
           {
            "colorscale": [
             [
              0,
              "#000011"
             ],
             [
              0.1111111111111111,
              "#000012"
             ],
             [
              0.2222222222222222,
              "#000013"
             ],
             [
              0.3333333333333333,
              "#000014"
             ],
             [
              0.4444444444444444,
              "#000015"
             ],
             [
              0.5555555555555556,
              "#000016"
             ],
             [
              0.6666666666666666,
              "#000017"
             ],
             [
              0.7777777777777778,
              "#000018"
             ],
             [
              0.8888888888888888,
              "#000019"
             ],
             [
              1,
              "#000020"
             ]
            ],
            "type": "histogram2d"
           }
          ],
          "icicle": [
           {
            "textfont": {
             "color": "white"
            },
            "type": "icicle"
           }
          ],
          "sankey": [
           {
            "textfont": {
             "color": "#000036"
            },
            "type": "sankey"
           }
          ],
          "scatter": [
           {
            "marker": {
             "line": {
              "width": 0
             }
            },
            "type": "scatter"
           }
          ],
          "table": [
           {
            "cells": {
             "fill": {
              "color": "#000038"
             },
             "font": {
              "color": "#000037"
             },
             "line": {
              "color": "#000039"
             }
            },
            "header": {
             "fill": {
              "color": "#000040"
             },
             "font": {
              "color": "#000036"
             },
             "line": {
              "color": "#000039"
             }
            },
            "type": "table"
           }
          ],
          "waterfall": [
           {
            "connector": {
             "line": {
              "color": "#000036",
              "width": 2
             }
            },
            "decreasing": {
             "marker": {
              "color": "#000033"
             }
            },
            "increasing": {
             "marker": {
              "color": "#000032"
             }
            },
            "totals": {
             "marker": {
              "color": "#000034"
             }
            },
            "type": "waterfall"
           }
          ]
         },
         "layout": {
          "coloraxis": {
           "colorscale": [
            [
             0,
             "#000011"
            ],
            [
             0.1111111111111111,
             "#000012"
            ],
            [
             0.2222222222222222,
             "#000013"
            ],
            [
             0.3333333333333333,
             "#000014"
            ],
            [
             0.4444444444444444,
             "#000015"
            ],
            [
             0.5555555555555556,
             "#000016"
            ],
            [
             0.6666666666666666,
             "#000017"
            ],
            [
             0.7777777777777778,
             "#000018"
            ],
            [
             0.8888888888888888,
             "#000019"
            ],
            [
             1,
             "#000020"
            ]
           ]
          },
          "colorscale": {
           "diverging": [
            [
             0,
             "#000021"
            ],
            [
             0.1,
             "#000022"
            ],
            [
             0.2,
             "#000023"
            ],
            [
             0.3,
             "#000024"
            ],
            [
             0.4,
             "#000025"
            ],
            [
             0.5,
             "#000026"
            ],
            [
             0.6,
             "#000027"
            ],
            [
             0.7,
             "#000028"
            ],
            [
             0.8,
             "#000029"
            ],
            [
             0.9,
             "#000030"
            ],
            [
             1,
             "#000031"
            ]
           ],
           "sequential": [
            [
             0,
             "#000011"
            ],
            [
             0.1111111111111111,
             "#000012"
            ],
            [
             0.2222222222222222,
             "#000013"
            ],
            [
             0.3333333333333333,
             "#000014"
            ],
            [
             0.4444444444444444,
             "#000015"
            ],
            [
             0.5555555555555556,
             "#000016"
            ],
            [
             0.6666666666666666,
             "#000017"
            ],
            [
             0.7777777777777778,
             "#000018"
            ],
            [
             0.8888888888888888,
             "#000019"
            ],
            [
             1,
             "#000020"
            ]
           ],
           "sequentialminus": [
            [
             0,
             "#000011"
            ],
            [
             0.1111111111111111,
             "#000012"
            ],
            [
             0.2222222222222222,
             "#000013"
            ],
            [
             0.3333333333333333,
             "#000014"
            ],
            [
             0.4444444444444444,
             "#000015"
            ],
            [
             0.5555555555555556,
             "#000016"
            ],
            [
             0.6666666666666666,
             "#000017"
            ],
            [
             0.7777777777777778,
             "#000018"
            ],
            [
             0.8888888888888888,
             "#000019"
            ],
            [
             1,
             "#000020"
            ]
           ]
          },
          "colorway": [
           "#000001",
           "#000002",
           "#000003",
           "#000004",
           "#000005",
           "#000006",
           "#000007",
           "#000008",
           "#000009",
           "#000010"
          ]
         }
        },
        "xaxis": {
         "anchor": "y",
         "constrain": "domain",
         "domain": [
          0,
          1
         ],
         "scaleanchor": "y",
         "title": {
          "text": "Day"
         }
        },
        "yaxis": {
         "anchor": "x",
         "autorange": "reversed",
         "constrain": "domain",
         "domain": [
          0,
          1
         ],
         "title": {
          "text": "Category"
         }
        }
       }
      }
     },
     "metadata": {},
     "output_type": "display_data"
    }
   ],
   "source": [
    "cell_size = 35\n",
    "row_title_width = 200\n",
    "width = cell_size*len(pivoted_data.columns)\n",
    "height = cell_size*len(pivoted_data.index)\n",
    "\n",
    "fig = px.imshow(pivoted_data, color_continuous_scale=heatmap_colors)\n",
    "\n",
    "for i in range(len(pivoted_data.columns)):\n",
    "    fig.add_shape(type=\"line\", x0=0.5 + i, y0=-0.5, x1=0.5 + i, y1=len(pivoted_data.index) - 0.5, line=dict(color=\"white\", width=2))\n",
    "\n",
    "for i in range(len(pivoted_data.index)):\n",
    "    fig.add_shape(type=\"line\", x0=-0.5, y0=0.5 + i, x1=len(pivoted_data.columns) - 0.5, y1=0.5 + i, line=dict(color=\"white\", width=2))\n",
    "\n",
    "fig.update_coloraxes(\n",
    "    showscale=True,\n",
    "    colorscale=[\n",
    "        (0.0, '#a0e0d9'),\n",
    "        (0.01, '#a0e0d9'),\n",
    "        (0.01, '#72b1aa'),\n",
    "        (0.02, '#72b1aa'),\n",
    "        (0.02, '#46847e'),\n",
    "        (0.04, '#46847e'),\n",
    "        (0.04, '#165954'),\n",
    "        (0.1, '#165954'),\n",
    "        (0.1, '#00322e'),\n",
    "        (1.0, '#00322e'),\n",
    "    ],\n",
    ")\n",
    "fig.show()"
   ]
  }
 ],
 "metadata": {
  "kernelspec": {
   "display_name": "env_finapp",
   "language": "python",
   "name": "python3"
  },
  "language_info": {
   "codemirror_mode": {
    "name": "ipython",
    "version": 3
   },
   "file_extension": ".py",
   "mimetype": "text/x-python",
   "name": "python",
   "nbconvert_exporter": "python",
   "pygments_lexer": "ipython3",
   "version": "3.9.18"
  }
 },
 "nbformat": 4,
 "nbformat_minor": 2
}
